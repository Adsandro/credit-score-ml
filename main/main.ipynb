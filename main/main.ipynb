{
 "cells": [
  {
   "cell_type": "markdown",
   "metadata": {},
   "source": [
    "# Python Project: Credit Score"
   ]
  },
  {
   "cell_type": "markdown",
   "metadata": {},
   "source": [
    "### Entendendo as necessidades do projeto"
   ]
  },
  {
   "cell_type": "code",
   "execution_count": 1,
   "metadata": {},
   "outputs": [],
   "source": [
    "# Entender o problema e os desafios da empresa\n",
    "# Carregar base de dados\n",
    "# Preparar a base de dados\n",
    "# Criar um modelo de IA, classificar o score do cliente\n",
    "# Escolher melhor modelo\n",
    "# Usar modelo em um cenário real"
   ]
  },
  {
   "cell_type": "markdown",
   "metadata": {},
   "source": [
    "### Carregando base de dados"
   ]
  },
  {
   "cell_type": "code",
   "execution_count": null,
   "metadata": {},
   "outputs": [],
   "source": [
    "import pandas as pd\n",
    "tabela = pd.read_csv('clientes.csv')\n",
    "display(tabela)"
   ]
  },
  {
   "cell_type": "code",
   "execution_count": null,
   "metadata": {},
   "outputs": [],
   "source": [
    "print(tabela.info())"
   ]
  },
  {
   "cell_type": "markdown",
   "metadata": {},
   "source": [
    "### Tratamento de dados\n",
    "Para um melhor tratamento de dados por meio de IA, é aconselhado que as colunas possuam informações em formato de numero, ou seja, todos os campos que estiverem com Dtype Objeto, deve ser tratado e transformado em numeral. Nesse caso será utilizado o *LabelEncoder* para transformar cada apções das colunas a seguir em numeros.\n",
    "\n",
    "Profissao\n",
    "mix_credito\n",
    "comportamento_pagamento"
   ]
  },
  {
   "cell_type": "code",
   "execution_count": null,
   "metadata": {},
   "outputs": [],
   "source": [
    "from sklearn.preprocessing import LabelEncoder\n",
    "\n",
    "codificator = LabelEncoder()\n",
    "columns_to_encode = ['profissao', 'mix_credito', 'comportamento_pagamento']\n",
    "tabela[columns_to_encode] = tabela[columns_to_encode].apply(codificator.fit_transform)\n",
    "print(tabela.info())"
   ]
  },
  {
   "cell_type": "markdown",
   "metadata": {},
   "source": [
    "\n",
    "### Separação para dados de teste e de treinamento\n",
    "\n",
    "O campo que você deseja prever deve estar no eixo `Y`, ja os que serão utilizado para prver esse resultado deve estar no eixo `X`.\n",
    "\n",
    "Para não tornar o aprendizado de maquina viciado, é necessário retirar todas as colunas desnecessarias do eixo X, ou seja, se formos utilizar a coluna `score_credito` como campo à ser previsto, ele deve ser removido, assim como o `id_cliente` por se tratar de um campo aleatório. Outro parametro a ser utilizado é o `axis`, caso possua valor 1, a remoção será realizada na coluna, caso possua valor 0 será realizado em linha."
   ]
  },
  {
   "cell_type": "code",
   "execution_count": 5,
   "metadata": {},
   "outputs": [],
   "source": [
    "y = tabela['score_credito']\n",
    "drop_table = ['score_credito', 'id_cliente']\n",
    "x = tabela.drop(drop_table, axis=1)"
   ]
  },
  {
   "cell_type": "code",
   "execution_count": 6,
   "metadata": {},
   "outputs": [],
   "source": [
    "from sklearn.model_selection import train_test_split\n",
    "x_treino, x_teste, y_treino, y_teste = train_test_split(x, y)"
   ]
  },
  {
   "cell_type": "markdown",
   "metadata": {},
   "source": [
    "### Treinamento da base"
   ]
  },
  {
   "cell_type": "code",
   "execution_count": null,
   "metadata": {},
   "outputs": [],
   "source": [
    "from sklearn.ensemble import RandomForestClassifier\n",
    "from sklearn.neighbors import KNeighborsClassifier\n",
    "\n",
    "model_forest_classifier = RandomForestClassifier()\n",
    "model_knn = KNeighborsClassifier()\n",
    "\n",
    "model_forest_classifier.fit(x_treino, y_treino)\n",
    "model_knn.fit(x_treino, y_treino)"
   ]
  },
  {
   "cell_type": "markdown",
   "metadata": {},
   "source": [
    "### Testando accuracy\n",
    "Essa é uma etapa importante, ja que a base de dados pode ser treinada com diversos modelos, e após o treinamento e o teste deve ser selecionado o melhor para aplicar nos cenários reais."
   ]
  },
  {
   "cell_type": "code",
   "execution_count": null,
   "metadata": {},
   "outputs": [],
   "source": [
    "from sklearn.metrics import accuracy_score\n",
    "\n",
    "forecast_tree_decision = model_forest_classifier.predict(x_teste)\n",
    "knn_decision = model_knn.predict(x_teste.to_numpy())\n",
    "\n",
    "print(f\"Tree decision: {accuracy_score(y_teste, forecast_tree_decision)}\")\n",
    "print(f\"Knn decision: {accuracy_score(y_teste, knn_decision)}\")\n"
   ]
  },
  {
   "cell_type": "markdown",
   "metadata": {},
   "source": [
    "### Utilizando dados reais"
   ]
  },
  {
   "cell_type": "code",
   "execution_count": 20,
   "metadata": {},
   "outputs": [
    {
     "data": {
      "text/html": [
       "<div>\n",
       "<style scoped>\n",
       "    .dataframe tbody tr th:only-of-type {\n",
       "        vertical-align: middle;\n",
       "    }\n",
       "\n",
       "    .dataframe tbody tr th {\n",
       "        vertical-align: top;\n",
       "    }\n",
       "\n",
       "    .dataframe thead th {\n",
       "        text-align: right;\n",
       "    }\n",
       "</style>\n",
       "<table border=\"1\" class=\"dataframe\">\n",
       "  <thead>\n",
       "    <tr style=\"text-align: right;\">\n",
       "      <th></th>\n",
       "      <th>mes</th>\n",
       "      <th>idade</th>\n",
       "      <th>profissao</th>\n",
       "      <th>salario_anual</th>\n",
       "      <th>num_contas</th>\n",
       "      <th>num_cartoes</th>\n",
       "      <th>juros_emprestimo</th>\n",
       "      <th>num_emprestimos</th>\n",
       "      <th>dias_atraso</th>\n",
       "      <th>num_pagamentos_atrasados</th>\n",
       "      <th>...</th>\n",
       "      <th>taxa_uso_credito</th>\n",
       "      <th>idade_historico_credito</th>\n",
       "      <th>investimento_mensal</th>\n",
       "      <th>comportamento_pagamento</th>\n",
       "      <th>saldo_final_mes</th>\n",
       "      <th>emprestimo_carro</th>\n",
       "      <th>emprestimo_casa</th>\n",
       "      <th>emprestimo_pessoal</th>\n",
       "      <th>emprestimo_credito</th>\n",
       "      <th>emprestimo_estudantil</th>\n",
       "    </tr>\n",
       "  </thead>\n",
       "  <tbody>\n",
       "    <tr>\n",
       "      <th>0</th>\n",
       "      <td>1</td>\n",
       "      <td>31.0</td>\n",
       "      <td>1</td>\n",
       "      <td>19300.340</td>\n",
       "      <td>6.0</td>\n",
       "      <td>7.0</td>\n",
       "      <td>17.0</td>\n",
       "      <td>5.0</td>\n",
       "      <td>52.0</td>\n",
       "      <td>19.0</td>\n",
       "      <td>...</td>\n",
       "      <td>29.934186</td>\n",
       "      <td>218.0</td>\n",
       "      <td>44.50951</td>\n",
       "      <td>1</td>\n",
       "      <td>312.487689</td>\n",
       "      <td>1</td>\n",
       "      <td>1</td>\n",
       "      <td>0</td>\n",
       "      <td>0</td>\n",
       "      <td>0</td>\n",
       "    </tr>\n",
       "    <tr>\n",
       "      <th>1</th>\n",
       "      <td>4</td>\n",
       "      <td>32.0</td>\n",
       "      <td>0</td>\n",
       "      <td>12600.445</td>\n",
       "      <td>5.0</td>\n",
       "      <td>5.0</td>\n",
       "      <td>10.0</td>\n",
       "      <td>3.0</td>\n",
       "      <td>25.0</td>\n",
       "      <td>18.0</td>\n",
       "      <td>...</td>\n",
       "      <td>28.819407</td>\n",
       "      <td>12.0</td>\n",
       "      <td>0.00000</td>\n",
       "      <td>2</td>\n",
       "      <td>300.994163</td>\n",
       "      <td>0</td>\n",
       "      <td>0</td>\n",
       "      <td>0</td>\n",
       "      <td>0</td>\n",
       "      <td>1</td>\n",
       "    </tr>\n",
       "    <tr>\n",
       "      <th>2</th>\n",
       "      <td>2</td>\n",
       "      <td>48.0</td>\n",
       "      <td>1</td>\n",
       "      <td>20787.690</td>\n",
       "      <td>8.0</td>\n",
       "      <td>6.0</td>\n",
       "      <td>14.0</td>\n",
       "      <td>7.0</td>\n",
       "      <td>24.0</td>\n",
       "      <td>14.0</td>\n",
       "      <td>...</td>\n",
       "      <td>34.235853</td>\n",
       "      <td>215.0</td>\n",
       "      <td>0.00000</td>\n",
       "      <td>0</td>\n",
       "      <td>345.081577</td>\n",
       "      <td>0</td>\n",
       "      <td>1</td>\n",
       "      <td>0</td>\n",
       "      <td>1</td>\n",
       "      <td>0</td>\n",
       "    </tr>\n",
       "  </tbody>\n",
       "</table>\n",
       "<p>3 rows × 23 columns</p>\n",
       "</div>"
      ],
      "text/plain": [
       "   mes  idade  profissao  salario_anual  num_contas  num_cartoes  \\\n",
       "0    1   31.0          1      19300.340         6.0          7.0   \n",
       "1    4   32.0          0      12600.445         5.0          5.0   \n",
       "2    2   48.0          1      20787.690         8.0          6.0   \n",
       "\n",
       "   juros_emprestimo  num_emprestimos  dias_atraso  num_pagamentos_atrasados  \\\n",
       "0              17.0              5.0         52.0                      19.0   \n",
       "1              10.0              3.0         25.0                      18.0   \n",
       "2              14.0              7.0         24.0                      14.0   \n",
       "\n",
       "   ...  taxa_uso_credito  idade_historico_credito  investimento_mensal  \\\n",
       "0  ...         29.934186                    218.0             44.50951   \n",
       "1  ...         28.819407                     12.0              0.00000   \n",
       "2  ...         34.235853                    215.0              0.00000   \n",
       "\n",
       "   comportamento_pagamento  saldo_final_mes  emprestimo_carro  \\\n",
       "0                        1       312.487689                 1   \n",
       "1                        2       300.994163                 0   \n",
       "2                        0       345.081577                 0   \n",
       "\n",
       "   emprestimo_casa  emprestimo_pessoal  emprestimo_credito  \\\n",
       "0                1                   0                   0   \n",
       "1                0                   0                   0   \n",
       "2                1                   0                   1   \n",
       "\n",
       "   emprestimo_estudantil  \n",
       "0                      0  \n",
       "1                      1  \n",
       "2                      0  \n",
       "\n",
       "[3 rows x 23 columns]"
      ]
     },
     "metadata": {},
     "output_type": "display_data"
    },
    {
     "name": "stdout",
     "output_type": "stream",
     "text": [
      "['Poor' 'Good' 'Good']\n"
     ]
    }
   ],
   "source": [
    "new_clients = pd.read_csv('novos_clientes.csv')\n",
    "\n",
    "columns_to_encode = ['profissao', 'mix_credito', 'comportamento_pagamento']\n",
    "new_clients[columns_to_encode] = new_clients[columns_to_encode].apply(codificator.fit_transform)\n",
    "display(new_clients)\n",
    "\n",
    "prevision = model_forest_classifier.predict(new_clients)\n",
    "print(prevision)\n"
   ]
  }
 ],
 "metadata": {
  "kernelspec": {
   "display_name": "Python 3",
   "language": "python",
   "name": "python3"
  },
  "language_info": {
   "codemirror_mode": {
    "name": "ipython",
    "version": 3
   },
   "file_extension": ".py",
   "mimetype": "text/x-python",
   "name": "python",
   "nbconvert_exporter": "python",
   "pygments_lexer": "ipython3",
   "version": "3.11.2"
  },
  "orig_nbformat": 4
 },
 "nbformat": 4,
 "nbformat_minor": 2
}
