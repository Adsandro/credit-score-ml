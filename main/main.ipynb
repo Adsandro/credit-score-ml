{
 "cells": [
  {
   "cell_type": "markdown",
   "metadata": {},
   "source": [
    "# Python Project: Credit Score"
   ]
  },
  {
   "cell_type": "markdown",
   "metadata": {},
   "source": [
    "### Entendendo as necessidades do projeto"
   ]
  },
  {
   "cell_type": "code",
   "execution_count": 1,
   "metadata": {},
   "outputs": [],
   "source": [
    "# Entender o problema e os desafios da empresa\n",
    "# Carregar base de dados\n",
    "# Preparar a base de dados\n",
    "# Criar um modelo de IA, classificar o score do cliente\n",
    "# Escolher melhor modelo\n",
    "# Usar modelo em um cenário real"
   ]
  },
  {
   "cell_type": "code",
   "execution_count": 1,
   "metadata": {},
   "outputs": [],
   "source": [
    "import pandas as pd\n",
    "from sklearn.preprocessing import LabelEncoder\n",
    "from sklearn.model_selection import train_test_split\n",
    "from sklearn.ensemble import RandomForestClassifier\n",
    "from sklearn.neighbors import KNeighborsClassifier\n",
    "from sklearn.metrics import accuracy_score"
   ]
  },
  {
   "cell_type": "markdown",
   "metadata": {},
   "source": [
    "### Carregando base de dados"
   ]
  },
  {
   "cell_type": "code",
   "execution_count": null,
   "metadata": {},
   "outputs": [],
   "source": [
    "tabela = pd.read_csv('clientes.csv')\n",
    "display(tabela)"
   ]
  },
  {
   "cell_type": "code",
   "execution_count": null,
   "metadata": {},
   "outputs": [],
   "source": [
    "print(tabela.info())"
   ]
  },
  {
   "cell_type": "markdown",
   "metadata": {},
   "source": [
    "### Tratamento de dados\n",
    "Para um melhor tratamento de dados por meio de IA, é aconselhado que as colunas possuam informações em formato de numero, ou seja, todos os campos que estiverem com Dtype Objeto, deve ser tratado e transformado em numeral. Nesse caso será utilizado o *LabelEncoder* para transformar cada apções das colunas a seguir em numeros.\n",
    "\n",
    "Profissao\n",
    "mix_credito\n",
    "comportamento_pagamento"
   ]
  },
  {
   "cell_type": "code",
   "execution_count": null,
   "metadata": {},
   "outputs": [],
   "source": [
    "codificator = LabelEncoder()\n",
    "columns_to_encode = ['profissao', 'mix_credito', 'comportamento_pagamento']\n",
    "tabela[columns_to_encode] = tabela[columns_to_encode].apply(codificator.fit_transform)\n",
    "print(tabela.info())"
   ]
  },
  {
   "cell_type": "markdown",
   "metadata": {},
   "source": [
    "\n",
    "### Separação para dados de teste e de treinamento\n",
    "\n",
    "O campo que você deseja prever deve estar no eixo `Y`, ja os que serão utilizado para prver esse resultado deve estar no eixo `X`.\n",
    "\n",
    "Para não tornar o aprendizado de maquina viciado, é necessário retirar todas as colunas desnecessarias do eixo X, ou seja, se formos utilizar a coluna `score_credito` como campo à ser previsto, ele deve ser removido, assim como o `id_cliente` por se tratar de um campo aleatório. Outro parametro a ser utilizado é o `axis`, caso possua valor 1, a remoção será realizada na coluna, caso possua valor 0 será realizado em linha."
   ]
  },
  {
   "cell_type": "code",
   "execution_count": 5,
   "metadata": {},
   "outputs": [],
   "source": [
    "y = tabela['score_credito']\n",
    "drop_table = ['score_credito', 'id_cliente']\n",
    "x = tabela.drop(drop_table, axis=1)"
   ]
  },
  {
   "cell_type": "code",
   "execution_count": 6,
   "metadata": {},
   "outputs": [],
   "source": [
    "x_treino, x_teste, y_treino, y_teste = train_test_split(x, y)"
   ]
  },
  {
   "cell_type": "markdown",
   "metadata": {},
   "source": [
    "### Treinamento da base"
   ]
  },
  {
   "cell_type": "code",
   "execution_count": null,
   "metadata": {},
   "outputs": [],
   "source": [
    "model_forest_classifier = RandomForestClassifier()\n",
    "model_knn = KNeighborsClassifier()\n",
    "\n",
    "model_forest_classifier.fit(x_treino, y_treino)\n",
    "model_knn.fit(x_treino, y_treino)"
   ]
  },
  {
   "cell_type": "markdown",
   "metadata": {},
   "source": [
    "### Testando accuracy\n",
    "Essa é uma etapa importante, ja que a base de dados pode ser treinada com diversos modelos, e após o treinamento e o teste deve ser selecionado o melhor para aplicar nos cenários reais."
   ]
  },
  {
   "cell_type": "code",
   "execution_count": null,
   "metadata": {},
   "outputs": [],
   "source": [
    "forecast_tree_decision = model_forest_classifier.predict(x_teste)\n",
    "knn_decision = model_knn.predict(x_teste.to_numpy())\n",
    "\n",
    "print(f\"Tree decision: {accuracy_score(y_teste, forecast_tree_decision)}\")\n",
    "print(f\"Knn decision: {accuracy_score(y_teste, knn_decision)}\")\n"
   ]
  },
  {
   "cell_type": "markdown",
   "metadata": {},
   "source": [
    "### Utilizando dados reais"
   ]
  },
  {
   "cell_type": "code",
   "execution_count": null,
   "metadata": {},
   "outputs": [],
   "source": [
    "new_clients = pd.read_csv('novos_clientes.csv')\n",
    "\n",
    "columns_to_encode = ['profissao', 'mix_credito', 'comportamento_pagamento']\n",
    "new_clients[columns_to_encode] = new_clients[columns_to_encode].apply(codificator.fit_transform)\n",
    "display(new_clients)\n",
    "\n",
    "prevision = model_forest_classifier.predict(new_clients)\n",
    "print(prevision)\n"
   ]
  }
 ],
 "metadata": {
  "kernelspec": {
   "display_name": "Python 3",
   "language": "python",
   "name": "python3"
  },
  "language_info": {
   "codemirror_mode": {
    "name": "ipython",
    "version": 3
   },
   "file_extension": ".py",
   "mimetype": "text/x-python",
   "name": "python",
   "nbconvert_exporter": "python",
   "pygments_lexer": "ipython3",
   "version": "3.11.4"
  },
  "orig_nbformat": 4
 },
 "nbformat": 4,
 "nbformat_minor": 2
}
